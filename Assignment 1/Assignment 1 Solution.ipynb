{
 "cells": [
  {
   "cell_type": "markdown",
   "metadata": {},
   "source": [
    "## Assignment 1"
   ]
  },
  {
   "cell_type": "markdown",
   "metadata": {},
   "source": [
    "#### 1. Write a program to iterate the first 10 numbers, and in each iteration, print the sum of the current and previous number"
   ]
  },
  {
   "cell_type": "code",
   "execution_count": 16,
   "metadata": {},
   "outputs": [
    {
     "name": "stdout",
     "output_type": "stream",
     "text": [
      "Sum of current & previous number:  0\n",
      "Sum of current & previous number:  1\n",
      "Sum of current & previous number:  3\n",
      "Sum of current & previous number:  6\n",
      "Sum of current & previous number:  10\n",
      "Sum of current & previous number:  15\n",
      "Sum of current & previous number:  21\n",
      "Sum of current & previous number:  28\n",
      "Sum of current & previous number:  36\n",
      "Sum of current & previous number:  45\n"
     ]
    }
   ],
   "source": [
    "sum = 0\n",
    "for i in range(0, 10):\n",
    "    sum = sum + i\n",
    "    print(\"Sum of current & previous number: \", sum)\n"
   ]
  },
  {
   "cell_type": "markdown",
   "metadata": {},
   "source": [
    "#### 2. Print the following pattern\n",
    "##### 1\n",
    "##### 2 2\n",
    "##### 3 3 3\n",
    "##### 4 4 4 4\n",
    "##### 5 5 5 5 5"
   ]
  },
  {
   "cell_type": "code",
   "execution_count": 23,
   "metadata": {},
   "outputs": [
    {
     "name": "stdout",
     "output_type": "stream",
     "text": [
      "\n",
      "1 \n",
      "2 2 \n",
      "3 3 3 \n",
      "4 4 4 4 \n",
      "5 5 5 5 5 \n"
     ]
    }
   ],
   "source": [
    "rows = 5\n",
    "for i in range(rows + 1):\n",
    "    for j in range(i):\n",
    "        print(i, end=\" \")\n",
    "    print(\"\")"
   ]
  },
  {
   "cell_type": "markdown",
   "metadata": {},
   "source": [
    "#### 3. List is given below:\n",
    "#### numbers = [12, 75, 150, 180, 145, 525, 50]\n",
    "#### Write a program to display only those numbers from a list that satisfy the following conditions\n",
    "#### i. The number must be divisible by five\n",
    "#### ii. If the number is greater than 150, then skip it and move to the next number\n",
    "#### iii. If the number is greater than 500, then stop the loop"
   ]
  },
  {
   "cell_type": "code",
   "execution_count": 32,
   "metadata": {},
   "outputs": [
    {
     "name": "stdout",
     "output_type": "stream",
     "text": [
      "75  \n",
      "145  \n",
      "50  \n"
     ]
    }
   ],
   "source": [
    "numbers = [12, 75, 150, 180, 145, 525, 50]\n",
    "for i in range(len(numbers)):\n",
    "    if (numbers[i] % 5 == 0 and numbers[i] < 150 and numbers[i] < 500):\n",
    "        print(numbers[i], \" \")"
   ]
  },
  {
   "cell_type": "markdown",
   "metadata": {},
   "source": [
    "#### 4. Display Fibonacci series up to 10 terms"
   ]
  },
  {
   "cell_type": "code",
   "execution_count": 41,
   "metadata": {},
   "outputs": [
    {
     "name": "stdout",
     "output_type": "stream",
     "text": [
      "0 1 1 2 3 5 8 13 21 34 55 "
     ]
    }
   ],
   "source": [
    "a, b = 0, 1\n",
    "count = 0\n",
    "totalTerms = 10\n",
    "while (count < totalTerms+1):\n",
    "  print(a, end=\" \")\n",
    "  sum = a + b\n",
    "  a = b\n",
    "  b = sum\n",
    "  count+= 1"
   ]
  },
  {
   "cell_type": "markdown",
   "metadata": {},
   "source": [
    "#### 5. Write a program to use the loop to find the factorial of a given number"
   ]
  },
  {
   "cell_type": "code",
   "execution_count": 55,
   "metadata": {},
   "outputs": [
    {
     "name": "stdout",
     "output_type": "stream",
     "text": [
      "Factorial of 5 is: 120\n"
     ]
    }
   ],
   "source": [
    "num = int(input(\"Enter number to find the factorial: \"))\n",
    "enteredNum = num\n",
    "for i in range(1, num):\n",
    "    num *= i\n",
    "\n",
    "print(\"Factorial of\", enteredNum, \"is:\", num)"
   ]
  },
  {
   "cell_type": "markdown",
   "metadata": {},
   "source": [
    "#### 6. Write a program to iterate a given list and count the occurrence of each element and print to show the count of each element.\n",
    "##### sample_list = [11, 45, 8, 11, 23, 45, 23, 45, 89]"
   ]
  },
  {
   "cell_type": "code",
   "execution_count": 69,
   "metadata": {},
   "outputs": [
    {
     "name": "stdout",
     "output_type": "stream",
     "text": [
      "{11: 2, 45: 3, 8: 1, 23: 2, 89: 1}\n"
     ]
    }
   ],
   "source": [
    "sample_list = [11, 45, 8, 11, 23, 45, 23, 45, 89]\n",
    "count_item = dict()\n",
    "for i in sample_list:\n",
    "    if i in count_item:\n",
    "        count_item[i] += 1\n",
    "    else:\n",
    "        count_item[i] = 1\n",
    "print(count_item)"
   ]
  },
  {
   "cell_type": "markdown",
   "metadata": {},
   "source": [
    "#### 7. Given two lists, l1 and l2, write a program to create a third list l3 by picking an odd-index element from the list l1 and even index elements from the list l2.\n",
    "##### l1 = [3, 6, 9, 12, 15, 18, 21]\n",
    "##### l2 = [4, 8, 12, 16, 20, 24, 28]\n"
   ]
  },
  {
   "cell_type": "code",
   "execution_count": 72,
   "metadata": {},
   "outputs": [
    {
     "name": "stdout",
     "output_type": "stream",
     "text": [
      "[6, 12, 18]\n",
      "[4, 12, 20, 28]\n",
      "l3 = [6, 12, 18, 4, 12, 20, 28]\n"
     ]
    }
   ],
   "source": [
    "l1 = [3, 6, 9, 12, 15, 18, 21]\n",
    "l2 = [4, 8, 12, 16, 20, 24, 28]\n",
    "res = list()\n",
    "\n",
    "odd_elements = l1[1::2]\n",
    "res.extend(odd_elements)\n",
    "even_elements = l2[0::2]\n",
    "res.extend(even_elements)\n",
    "\n",
    "print(\"l3 =\",res)"
   ]
  }
 ],
 "metadata": {
  "kernelspec": {
   "display_name": "Python 3",
   "language": "python",
   "name": "python3"
  },
  "language_info": {
   "codemirror_mode": {
    "name": "ipython",
    "version": 3
   },
   "file_extension": ".py",
   "mimetype": "text/x-python",
   "name": "python",
   "nbconvert_exporter": "python",
   "pygments_lexer": "ipython3",
   "version": "3.10.0"
  }
 },
 "nbformat": 4,
 "nbformat_minor": 2
}
